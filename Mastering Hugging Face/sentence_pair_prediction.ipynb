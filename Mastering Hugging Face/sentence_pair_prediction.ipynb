{
  "nbformat": 4,
  "nbformat_minor": 0,
  "metadata": {
    "colab": {
      "name": "Fine-tuning a model with Keras",
      "provenance": []
    },
    "language_info": {
      "name": "python"
    },
    "kernelspec": {
      "name": "python3",
      "display_name": "Python 3"
    },
    "accelerator": "GPU",
    "widgets": {
      "application/vnd.jupyter.widget-state+json": {
        "5aef0978b9ac49e99270c2a7b7e903c9": {
          "model_module": "@jupyter-widgets/controls",
          "model_name": "HBoxModel",
          "model_module_version": "1.5.0",
          "state": {
            "_view_name": "HBoxView",
            "_dom_classes": [],
            "_model_name": "HBoxModel",
            "_view_module": "@jupyter-widgets/controls",
            "_model_module_version": "1.5.0",
            "_view_count": null,
            "_view_module_version": "1.5.0",
            "box_style": "",
            "layout": "IPY_MODEL_022dc38af6614878b6b1c0a864375728",
            "_model_module": "@jupyter-widgets/controls",
            "children": [
              "IPY_MODEL_d751f54eae2f445386833eebd146490d",
              "IPY_MODEL_6f582eca98e047d2bb5d09247bc15bbd",
              "IPY_MODEL_22022e72cd4d4dc4bd2e7f1e82a451a5"
            ]
          }
        },
        "022dc38af6614878b6b1c0a864375728": {
          "model_module": "@jupyter-widgets/base",
          "model_name": "LayoutModel",
          "model_module_version": "1.2.0",
          "state": {
            "_view_name": "LayoutView",
            "grid_template_rows": null,
            "right": null,
            "justify_content": null,
            "_view_module": "@jupyter-widgets/base",
            "overflow": null,
            "_model_module_version": "1.2.0",
            "_view_count": null,
            "flex_flow": null,
            "width": null,
            "min_width": null,
            "border": null,
            "align_items": null,
            "bottom": null,
            "_model_module": "@jupyter-widgets/base",
            "top": null,
            "grid_column": null,
            "overflow_y": null,
            "overflow_x": null,
            "grid_auto_flow": null,
            "grid_area": null,
            "grid_template_columns": null,
            "flex": null,
            "_model_name": "LayoutModel",
            "justify_items": null,
            "grid_row": null,
            "max_height": null,
            "align_content": null,
            "visibility": null,
            "align_self": null,
            "height": null,
            "min_height": null,
            "padding": null,
            "grid_auto_rows": null,
            "grid_gap": null,
            "max_width": null,
            "order": null,
            "_view_module_version": "1.2.0",
            "grid_template_areas": null,
            "object_position": null,
            "object_fit": null,
            "grid_auto_columns": null,
            "margin": null,
            "display": null,
            "left": null
          }
        },
        "d751f54eae2f445386833eebd146490d": {
          "model_module": "@jupyter-widgets/controls",
          "model_name": "HTMLModel",
          "model_module_version": "1.5.0",
          "state": {
            "_view_name": "HTMLView",
            "style": "IPY_MODEL_b6d712abcc1e496e8a24664f0065d2fe",
            "_dom_classes": [],
            "description": "",
            "_model_name": "HTMLModel",
            "placeholder": "​",
            "_view_module": "@jupyter-widgets/controls",
            "_model_module_version": "1.5.0",
            "value": "Downloading: 100%",
            "_view_count": null,
            "_view_module_version": "1.5.0",
            "description_tooltip": null,
            "_model_module": "@jupyter-widgets/controls",
            "layout": "IPY_MODEL_40b1e82c54da405dbf2891af7a6d039c"
          }
        },
        "6f582eca98e047d2bb5d09247bc15bbd": {
          "model_module": "@jupyter-widgets/controls",
          "model_name": "FloatProgressModel",
          "model_module_version": "1.5.0",
          "state": {
            "_view_name": "ProgressView",
            "style": "IPY_MODEL_001d8c319b0b46e9b14efe44998a61f1",
            "_dom_classes": [],
            "description": "",
            "_model_name": "FloatProgressModel",
            "bar_style": "success",
            "max": 536063208,
            "_view_module": "@jupyter-widgets/controls",
            "_model_module_version": "1.5.0",
            "value": 536063208,
            "_view_count": null,
            "_view_module_version": "1.5.0",
            "orientation": "horizontal",
            "min": 0,
            "description_tooltip": null,
            "_model_module": "@jupyter-widgets/controls",
            "layout": "IPY_MODEL_1dd6b2c49139453c887b7c0e27b47efe"
          }
        },
        "22022e72cd4d4dc4bd2e7f1e82a451a5": {
          "model_module": "@jupyter-widgets/controls",
          "model_name": "HTMLModel",
          "model_module_version": "1.5.0",
          "state": {
            "_view_name": "HTMLView",
            "style": "IPY_MODEL_c5659e610e184f79bbe4b2418bfd0412",
            "_dom_classes": [],
            "description": "",
            "_model_name": "HTMLModel",
            "placeholder": "​",
            "_view_module": "@jupyter-widgets/controls",
            "_model_module_version": "1.5.0",
            "value": " 511M/511M [00:18&lt;00:00, 29.5MB/s]",
            "_view_count": null,
            "_view_module_version": "1.5.0",
            "description_tooltip": null,
            "_model_module": "@jupyter-widgets/controls",
            "layout": "IPY_MODEL_663361e84afe420489b03f33b7e459cf"
          }
        },
        "b6d712abcc1e496e8a24664f0065d2fe": {
          "model_module": "@jupyter-widgets/controls",
          "model_name": "DescriptionStyleModel",
          "model_module_version": "1.5.0",
          "state": {
            "_view_name": "StyleView",
            "_model_name": "DescriptionStyleModel",
            "description_width": "",
            "_view_module": "@jupyter-widgets/base",
            "_model_module_version": "1.5.0",
            "_view_count": null,
            "_view_module_version": "1.2.0",
            "_model_module": "@jupyter-widgets/controls"
          }
        },
        "40b1e82c54da405dbf2891af7a6d039c": {
          "model_module": "@jupyter-widgets/base",
          "model_name": "LayoutModel",
          "model_module_version": "1.2.0",
          "state": {
            "_view_name": "LayoutView",
            "grid_template_rows": null,
            "right": null,
            "justify_content": null,
            "_view_module": "@jupyter-widgets/base",
            "overflow": null,
            "_model_module_version": "1.2.0",
            "_view_count": null,
            "flex_flow": null,
            "width": null,
            "min_width": null,
            "border": null,
            "align_items": null,
            "bottom": null,
            "_model_module": "@jupyter-widgets/base",
            "top": null,
            "grid_column": null,
            "overflow_y": null,
            "overflow_x": null,
            "grid_auto_flow": null,
            "grid_area": null,
            "grid_template_columns": null,
            "flex": null,
            "_model_name": "LayoutModel",
            "justify_items": null,
            "grid_row": null,
            "max_height": null,
            "align_content": null,
            "visibility": null,
            "align_self": null,
            "height": null,
            "min_height": null,
            "padding": null,
            "grid_auto_rows": null,
            "grid_gap": null,
            "max_width": null,
            "order": null,
            "_view_module_version": "1.2.0",
            "grid_template_areas": null,
            "object_position": null,
            "object_fit": null,
            "grid_auto_columns": null,
            "margin": null,
            "display": null,
            "left": null
          }
        },
        "001d8c319b0b46e9b14efe44998a61f1": {
          "model_module": "@jupyter-widgets/controls",
          "model_name": "ProgressStyleModel",
          "model_module_version": "1.5.0",
          "state": {
            "_view_name": "StyleView",
            "_model_name": "ProgressStyleModel",
            "description_width": "",
            "_view_module": "@jupyter-widgets/base",
            "_model_module_version": "1.5.0",
            "_view_count": null,
            "_view_module_version": "1.2.0",
            "bar_color": null,
            "_model_module": "@jupyter-widgets/controls"
          }
        },
        "1dd6b2c49139453c887b7c0e27b47efe": {
          "model_module": "@jupyter-widgets/base",
          "model_name": "LayoutModel",
          "model_module_version": "1.2.0",
          "state": {
            "_view_name": "LayoutView",
            "grid_template_rows": null,
            "right": null,
            "justify_content": null,
            "_view_module": "@jupyter-widgets/base",
            "overflow": null,
            "_model_module_version": "1.2.0",
            "_view_count": null,
            "flex_flow": null,
            "width": null,
            "min_width": null,
            "border": null,
            "align_items": null,
            "bottom": null,
            "_model_module": "@jupyter-widgets/base",
            "top": null,
            "grid_column": null,
            "overflow_y": null,
            "overflow_x": null,
            "grid_auto_flow": null,
            "grid_area": null,
            "grid_template_columns": null,
            "flex": null,
            "_model_name": "LayoutModel",
            "justify_items": null,
            "grid_row": null,
            "max_height": null,
            "align_content": null,
            "visibility": null,
            "align_self": null,
            "height": null,
            "min_height": null,
            "padding": null,
            "grid_auto_rows": null,
            "grid_gap": null,
            "max_width": null,
            "order": null,
            "_view_module_version": "1.2.0",
            "grid_template_areas": null,
            "object_position": null,
            "object_fit": null,
            "grid_auto_columns": null,
            "margin": null,
            "display": null,
            "left": null
          }
        },
        "c5659e610e184f79bbe4b2418bfd0412": {
          "model_module": "@jupyter-widgets/controls",
          "model_name": "DescriptionStyleModel",
          "model_module_version": "1.5.0",
          "state": {
            "_view_name": "StyleView",
            "_model_name": "DescriptionStyleModel",
            "description_width": "",
            "_view_module": "@jupyter-widgets/base",
            "_model_module_version": "1.5.0",
            "_view_count": null,
            "_view_module_version": "1.2.0",
            "_model_module": "@jupyter-widgets/controls"
          }
        },
        "663361e84afe420489b03f33b7e459cf": {
          "model_module": "@jupyter-widgets/base",
          "model_name": "LayoutModel",
          "model_module_version": "1.2.0",
          "state": {
            "_view_name": "LayoutView",
            "grid_template_rows": null,
            "right": null,
            "justify_content": null,
            "_view_module": "@jupyter-widgets/base",
            "overflow": null,
            "_model_module_version": "1.2.0",
            "_view_count": null,
            "flex_flow": null,
            "width": null,
            "min_width": null,
            "border": null,
            "align_items": null,
            "bottom": null,
            "_model_module": "@jupyter-widgets/base",
            "top": null,
            "grid_column": null,
            "overflow_y": null,
            "overflow_x": null,
            "grid_auto_flow": null,
            "grid_area": null,
            "grid_template_columns": null,
            "flex": null,
            "_model_name": "LayoutModel",
            "justify_items": null,
            "grid_row": null,
            "max_height": null,
            "align_content": null,
            "visibility": null,
            "align_self": null,
            "height": null,
            "min_height": null,
            "padding": null,
            "grid_auto_rows": null,
            "grid_gap": null,
            "max_width": null,
            "order": null,
            "_view_module_version": "1.2.0",
            "grid_template_areas": null,
            "object_position": null,
            "object_fit": null,
            "grid_auto_columns": null,
            "margin": null,
            "display": null,
            "left": null
          }
        },
        "99f6d35155e64fb882ce03402ef201ba": {
          "model_module": "@jupyter-widgets/controls",
          "model_name": "HBoxModel",
          "model_module_version": "1.5.0",
          "state": {
            "_view_name": "HBoxView",
            "_dom_classes": [],
            "_model_name": "HBoxModel",
            "_view_module": "@jupyter-widgets/controls",
            "_model_module_version": "1.5.0",
            "_view_count": null,
            "_view_module_version": "1.5.0",
            "box_style": "",
            "layout": "IPY_MODEL_9ce7b6baa6734bd4a39f1397f0274ecb",
            "_model_module": "@jupyter-widgets/controls",
            "children": [
              "IPY_MODEL_e7685882e9fc4b9cb238b00c3cec2e16",
              "IPY_MODEL_d3573949bf304af187474e34975ddb11",
              "IPY_MODEL_b8b8e805004b4767b3ea990832b1402a"
            ]
          }
        },
        "9ce7b6baa6734bd4a39f1397f0274ecb": {
          "model_module": "@jupyter-widgets/base",
          "model_name": "LayoutModel",
          "model_module_version": "1.2.0",
          "state": {
            "_view_name": "LayoutView",
            "grid_template_rows": null,
            "right": null,
            "justify_content": null,
            "_view_module": "@jupyter-widgets/base",
            "overflow": null,
            "_model_module_version": "1.2.0",
            "_view_count": null,
            "flex_flow": null,
            "width": null,
            "min_width": null,
            "border": null,
            "align_items": null,
            "bottom": null,
            "_model_module": "@jupyter-widgets/base",
            "top": null,
            "grid_column": null,
            "overflow_y": null,
            "overflow_x": null,
            "grid_auto_flow": null,
            "grid_area": null,
            "grid_template_columns": null,
            "flex": null,
            "_model_name": "LayoutModel",
            "justify_items": null,
            "grid_row": null,
            "max_height": null,
            "align_content": null,
            "visibility": null,
            "align_self": null,
            "height": null,
            "min_height": null,
            "padding": null,
            "grid_auto_rows": null,
            "grid_gap": null,
            "max_width": null,
            "order": null,
            "_view_module_version": "1.2.0",
            "grid_template_areas": null,
            "object_position": null,
            "object_fit": null,
            "grid_auto_columns": null,
            "margin": null,
            "display": null,
            "left": null
          }
        },
        "e7685882e9fc4b9cb238b00c3cec2e16": {
          "model_module": "@jupyter-widgets/controls",
          "model_name": "HTMLModel",
          "model_module_version": "1.5.0",
          "state": {
            "_view_name": "HTMLView",
            "style": "IPY_MODEL_5fafed8d63dd479fa3a2829efbeab77a",
            "_dom_classes": [],
            "description": "",
            "_model_name": "HTMLModel",
            "placeholder": "​",
            "_view_module": "@jupyter-widgets/controls",
            "_model_module_version": "1.5.0",
            "value": "Downloading: ",
            "_view_count": null,
            "_view_module_version": "1.5.0",
            "description_tooltip": null,
            "_model_module": "@jupyter-widgets/controls",
            "layout": "IPY_MODEL_378d7504b82d41a6ad367ef81ef3a462"
          }
        },
        "d3573949bf304af187474e34975ddb11": {
          "model_module": "@jupyter-widgets/controls",
          "model_name": "FloatProgressModel",
          "model_module_version": "1.5.0",
          "state": {
            "_view_name": "ProgressView",
            "style": "IPY_MODEL_857ee73c3f7942a9a4136ae420f91d41",
            "_dom_classes": [],
            "description": "",
            "_model_name": "FloatProgressModel",
            "bar_style": "success",
            "max": 1857,
            "_view_module": "@jupyter-widgets/controls",
            "_model_module_version": "1.5.0",
            "value": 1857,
            "_view_count": null,
            "_view_module_version": "1.5.0",
            "orientation": "horizontal",
            "min": 0,
            "description_tooltip": null,
            "_model_module": "@jupyter-widgets/controls",
            "layout": "IPY_MODEL_58ff6420ba2c40d8ba3ffc3245c7e3de"
          }
        },
        "b8b8e805004b4767b3ea990832b1402a": {
          "model_module": "@jupyter-widgets/controls",
          "model_name": "HTMLModel",
          "model_module_version": "1.5.0",
          "state": {
            "_view_name": "HTMLView",
            "style": "IPY_MODEL_227e5d57854d4f19b21ccd3d242dcc02",
            "_dom_classes": [],
            "description": "",
            "_model_name": "HTMLModel",
            "placeholder": "​",
            "_view_module": "@jupyter-widgets/controls",
            "_model_module_version": "1.5.0",
            "value": " 5.78k/? [00:00&lt;00:00, 125kB/s]",
            "_view_count": null,
            "_view_module_version": "1.5.0",
            "description_tooltip": null,
            "_model_module": "@jupyter-widgets/controls",
            "layout": "IPY_MODEL_94bfc897037347449a3823177c92e773"
          }
        },
        "5fafed8d63dd479fa3a2829efbeab77a": {
          "model_module": "@jupyter-widgets/controls",
          "model_name": "DescriptionStyleModel",
          "model_module_version": "1.5.0",
          "state": {
            "_view_name": "StyleView",
            "_model_name": "DescriptionStyleModel",
            "description_width": "",
            "_view_module": "@jupyter-widgets/base",
            "_model_module_version": "1.5.0",
            "_view_count": null,
            "_view_module_version": "1.2.0",
            "_model_module": "@jupyter-widgets/controls"
          }
        },
        "378d7504b82d41a6ad367ef81ef3a462": {
          "model_module": "@jupyter-widgets/base",
          "model_name": "LayoutModel",
          "model_module_version": "1.2.0",
          "state": {
            "_view_name": "LayoutView",
            "grid_template_rows": null,
            "right": null,
            "justify_content": null,
            "_view_module": "@jupyter-widgets/base",
            "overflow": null,
            "_model_module_version": "1.2.0",
            "_view_count": null,
            "flex_flow": null,
            "width": null,
            "min_width": null,
            "border": null,
            "align_items": null,
            "bottom": null,
            "_model_module": "@jupyter-widgets/base",
            "top": null,
            "grid_column": null,
            "overflow_y": null,
            "overflow_x": null,
            "grid_auto_flow": null,
            "grid_area": null,
            "grid_template_columns": null,
            "flex": null,
            "_model_name": "LayoutModel",
            "justify_items": null,
            "grid_row": null,
            "max_height": null,
            "align_content": null,
            "visibility": null,
            "align_self": null,
            "height": null,
            "min_height": null,
            "padding": null,
            "grid_auto_rows": null,
            "grid_gap": null,
            "max_width": null,
            "order": null,
            "_view_module_version": "1.2.0",
            "grid_template_areas": null,
            "object_position": null,
            "object_fit": null,
            "grid_auto_columns": null,
            "margin": null,
            "display": null,
            "left": null
          }
        },
        "857ee73c3f7942a9a4136ae420f91d41": {
          "model_module": "@jupyter-widgets/controls",
          "model_name": "ProgressStyleModel",
          "model_module_version": "1.5.0",
          "state": {
            "_view_name": "StyleView",
            "_model_name": "ProgressStyleModel",
            "description_width": "",
            "_view_module": "@jupyter-widgets/base",
            "_model_module_version": "1.5.0",
            "_view_count": null,
            "_view_module_version": "1.2.0",
            "bar_color": null,
            "_model_module": "@jupyter-widgets/controls"
          }
        },
        "58ff6420ba2c40d8ba3ffc3245c7e3de": {
          "model_module": "@jupyter-widgets/base",
          "model_name": "LayoutModel",
          "model_module_version": "1.2.0",
          "state": {
            "_view_name": "LayoutView",
            "grid_template_rows": null,
            "right": null,
            "justify_content": null,
            "_view_module": "@jupyter-widgets/base",
            "overflow": null,
            "_model_module_version": "1.2.0",
            "_view_count": null,
            "flex_flow": null,
            "width": null,
            "min_width": null,
            "border": null,
            "align_items": null,
            "bottom": null,
            "_model_module": "@jupyter-widgets/base",
            "top": null,
            "grid_column": null,
            "overflow_y": null,
            "overflow_x": null,
            "grid_auto_flow": null,
            "grid_area": null,
            "grid_template_columns": null,
            "flex": null,
            "_model_name": "LayoutModel",
            "justify_items": null,
            "grid_row": null,
            "max_height": null,
            "align_content": null,
            "visibility": null,
            "align_self": null,
            "height": null,
            "min_height": null,
            "padding": null,
            "grid_auto_rows": null,
            "grid_gap": null,
            "max_width": null,
            "order": null,
            "_view_module_version": "1.2.0",
            "grid_template_areas": null,
            "object_position": null,
            "object_fit": null,
            "grid_auto_columns": null,
            "margin": null,
            "display": null,
            "left": null
          }
        },
        "227e5d57854d4f19b21ccd3d242dcc02": {
          "model_module": "@jupyter-widgets/controls",
          "model_name": "DescriptionStyleModel",
          "model_module_version": "1.5.0",
          "state": {
            "_view_name": "StyleView",
            "_model_name": "DescriptionStyleModel",
            "description_width": "",
            "_view_module": "@jupyter-widgets/base",
            "_model_module_version": "1.5.0",
            "_view_count": null,
            "_view_module_version": "1.2.0",
            "_model_module": "@jupyter-widgets/controls"
          }
        },
        "94bfc897037347449a3823177c92e773": {
          "model_module": "@jupyter-widgets/base",
          "model_name": "LayoutModel",
          "model_module_version": "1.2.0",
          "state": {
            "_view_name": "LayoutView",
            "grid_template_rows": null,
            "right": null,
            "justify_content": null,
            "_view_module": "@jupyter-widgets/base",
            "overflow": null,
            "_model_module_version": "1.2.0",
            "_view_count": null,
            "flex_flow": null,
            "width": null,
            "min_width": null,
            "border": null,
            "align_items": null,
            "bottom": null,
            "_model_module": "@jupyter-widgets/base",
            "top": null,
            "grid_column": null,
            "overflow_y": null,
            "overflow_x": null,
            "grid_auto_flow": null,
            "grid_area": null,
            "grid_template_columns": null,
            "flex": null,
            "_model_name": "LayoutModel",
            "justify_items": null,
            "grid_row": null,
            "max_height": null,
            "align_content": null,
            "visibility": null,
            "align_self": null,
            "height": null,
            "min_height": null,
            "padding": null,
            "grid_auto_rows": null,
            "grid_gap": null,
            "max_width": null,
            "order": null,
            "_view_module_version": "1.2.0",
            "grid_template_areas": null,
            "object_position": null,
            "object_fit": null,
            "grid_auto_columns": null,
            "margin": null,
            "display": null,
            "left": null
          }
        }
      }
    }
  },
  "cells": [
    {
      "cell_type": "markdown",
      "metadata": {
        "id": "p-0haEA1wZvD"
      },
      "source": [
        "# Sentence Equivalence Task"
      ]
    },
    {
      "cell_type": "markdown",
      "metadata": {
        "id": "ZI5zSlv1wmEv"
      },
      "source": [
        "## **STEP ZERO**: Import Data"
      ]
    },
    {
      "cell_type": "markdown",
      "metadata": {
        "id": "Qbl-6k3kwZvR"
      },
      "source": [
        "Install the Transformers and Datasets libraries to run this notebook."
      ]
    },
    {
      "cell_type": "code",
      "metadata": {
        "colab": {
          "base_uri": "https://localhost:8080/"
        },
        "id": "GQQyc8-hwZvT",
        "outputId": "ff8614d6-c305-4190-e69a-8d2d4b90d205"
      },
      "source": [
        "!pip install datasets transformers[sentencepiece]"
      ],
      "execution_count": 1,
      "outputs": [
        {
          "output_type": "stream",
          "name": "stdout",
          "text": [
            "Collecting datasets\n",
            "  Downloading datasets-1.12.1-py3-none-any.whl (270 kB)\n",
            "\u001b[K     |████████████████████████████████| 270 kB 5.2 MB/s \n",
            "\u001b[?25hCollecting transformers[sentencepiece]\n",
            "  Downloading transformers-4.11.3-py3-none-any.whl (2.9 MB)\n",
            "\u001b[K     |████████████████████████████████| 2.9 MB 39.6 MB/s \n",
            "\u001b[?25hRequirement already satisfied: multiprocess in /usr/local/lib/python3.7/dist-packages (from datasets) (0.70.12.2)\n",
            "Requirement already satisfied: numpy>=1.17 in /usr/local/lib/python3.7/dist-packages (from datasets) (1.19.5)\n",
            "Requirement already satisfied: importlib-metadata in /usr/local/lib/python3.7/dist-packages (from datasets) (4.8.1)\n",
            "Requirement already satisfied: requests>=2.19.0 in /usr/local/lib/python3.7/dist-packages (from datasets) (2.23.0)\n",
            "Collecting aiohttp\n",
            "  Downloading aiohttp-3.7.4.post0-cp37-cp37m-manylinux2014_x86_64.whl (1.3 MB)\n",
            "\u001b[K     |████████████████████████████████| 1.3 MB 35.0 MB/s \n",
            "\u001b[?25hRequirement already satisfied: packaging in /usr/local/lib/python3.7/dist-packages (from datasets) (21.0)\n",
            "Collecting xxhash\n",
            "  Downloading xxhash-2.0.2-cp37-cp37m-manylinux2010_x86_64.whl (243 kB)\n",
            "\u001b[K     |████████████████████████████████| 243 kB 42.0 MB/s \n",
            "\u001b[?25hCollecting huggingface-hub<0.1.0,>=0.0.14\n",
            "  Downloading huggingface_hub-0.0.19-py3-none-any.whl (56 kB)\n",
            "\u001b[K     |████████████████████████████████| 56 kB 4.3 MB/s \n",
            "\u001b[?25hRequirement already satisfied: dill in /usr/local/lib/python3.7/dist-packages (from datasets) (0.3.4)\n",
            "Requirement already satisfied: tqdm>=4.62.1 in /usr/local/lib/python3.7/dist-packages (from datasets) (4.62.3)\n",
            "Requirement already satisfied: pyarrow!=4.0.0,>=1.0.0 in /usr/local/lib/python3.7/dist-packages (from datasets) (3.0.0)\n",
            "Requirement already satisfied: pandas in /usr/local/lib/python3.7/dist-packages (from datasets) (1.1.5)\n",
            "Collecting fsspec[http]>=2021.05.0\n",
            "  Downloading fsspec-2021.10.0-py3-none-any.whl (125 kB)\n",
            "\u001b[K     |████████████████████████████████| 125 kB 38.7 MB/s \n",
            "\u001b[?25hRequirement already satisfied: filelock in /usr/local/lib/python3.7/dist-packages (from huggingface-hub<0.1.0,>=0.0.14->datasets) (3.3.0)\n",
            "Requirement already satisfied: typing-extensions in /usr/local/lib/python3.7/dist-packages (from huggingface-hub<0.1.0,>=0.0.14->datasets) (3.7.4.3)\n",
            "Requirement already satisfied: pyyaml in /usr/local/lib/python3.7/dist-packages (from huggingface-hub<0.1.0,>=0.0.14->datasets) (3.13)\n",
            "Requirement already satisfied: pyparsing>=2.0.2 in /usr/local/lib/python3.7/dist-packages (from packaging->datasets) (2.4.7)\n",
            "Requirement already satisfied: chardet<4,>=3.0.2 in /usr/local/lib/python3.7/dist-packages (from requests>=2.19.0->datasets) (3.0.4)\n",
            "Requirement already satisfied: idna<3,>=2.5 in /usr/local/lib/python3.7/dist-packages (from requests>=2.19.0->datasets) (2.10)\n",
            "Requirement already satisfied: urllib3!=1.25.0,!=1.25.1,<1.26,>=1.21.1 in /usr/local/lib/python3.7/dist-packages (from requests>=2.19.0->datasets) (1.24.3)\n",
            "Requirement already satisfied: certifi>=2017.4.17 in /usr/local/lib/python3.7/dist-packages (from requests>=2.19.0->datasets) (2021.5.30)\n",
            "Collecting yarl<2.0,>=1.0\n",
            "  Downloading yarl-1.7.0-cp37-cp37m-manylinux_2_5_x86_64.manylinux1_x86_64.manylinux_2_12_x86_64.manylinux2010_x86_64.whl (271 kB)\n",
            "\u001b[K     |████████████████████████████████| 271 kB 49.8 MB/s \n",
            "\u001b[?25hCollecting multidict<7.0,>=4.5\n",
            "  Downloading multidict-5.2.0-cp37-cp37m-manylinux_2_5_x86_64.manylinux1_x86_64.manylinux_2_12_x86_64.manylinux2010_x86_64.whl (160 kB)\n",
            "\u001b[K     |████████████████████████████████| 160 kB 48.6 MB/s \n",
            "\u001b[?25hRequirement already satisfied: attrs>=17.3.0 in /usr/local/lib/python3.7/dist-packages (from aiohttp->datasets) (21.2.0)\n",
            "Collecting async-timeout<4.0,>=3.0\n",
            "  Downloading async_timeout-3.0.1-py3-none-any.whl (8.2 kB)\n",
            "Requirement already satisfied: zipp>=0.5 in /usr/local/lib/python3.7/dist-packages (from importlib-metadata->datasets) (3.6.0)\n",
            "Requirement already satisfied: python-dateutil>=2.7.3 in /usr/local/lib/python3.7/dist-packages (from pandas->datasets) (2.8.2)\n",
            "Requirement already satisfied: pytz>=2017.2 in /usr/local/lib/python3.7/dist-packages (from pandas->datasets) (2018.9)\n",
            "Requirement already satisfied: six>=1.5 in /usr/local/lib/python3.7/dist-packages (from python-dateutil>=2.7.3->pandas->datasets) (1.15.0)\n",
            "Collecting pyyaml\n",
            "  Downloading PyYAML-5.4.1-cp37-cp37m-manylinux1_x86_64.whl (636 kB)\n",
            "\u001b[K     |████████████████████████████████| 636 kB 44.1 MB/s \n",
            "\u001b[?25hRequirement already satisfied: regex!=2019.12.17 in /usr/local/lib/python3.7/dist-packages (from transformers[sentencepiece]) (2019.12.20)\n",
            "Collecting sacremoses\n",
            "  Downloading sacremoses-0.0.46-py3-none-any.whl (895 kB)\n",
            "\u001b[K     |████████████████████████████████| 895 kB 32.5 MB/s \n",
            "\u001b[?25hCollecting tokenizers<0.11,>=0.10.1\n",
            "  Downloading tokenizers-0.10.3-cp37-cp37m-manylinux_2_5_x86_64.manylinux1_x86_64.manylinux_2_12_x86_64.manylinux2010_x86_64.whl (3.3 MB)\n",
            "\u001b[K     |████████████████████████████████| 3.3 MB 35.5 MB/s \n",
            "\u001b[?25hRequirement already satisfied: protobuf in /usr/local/lib/python3.7/dist-packages (from transformers[sentencepiece]) (3.17.3)\n",
            "Collecting sentencepiece!=0.1.92,>=0.1.91\n",
            "  Downloading sentencepiece-0.1.96-cp37-cp37m-manylinux_2_17_x86_64.manylinux2014_x86_64.whl (1.2 MB)\n",
            "\u001b[K     |████████████████████████████████| 1.2 MB 34.9 MB/s \n",
            "\u001b[?25hRequirement already satisfied: joblib in /usr/local/lib/python3.7/dist-packages (from sacremoses->transformers[sentencepiece]) (1.0.1)\n",
            "Requirement already satisfied: click in /usr/local/lib/python3.7/dist-packages (from sacremoses->transformers[sentencepiece]) (7.1.2)\n",
            "Installing collected packages: multidict, yarl, pyyaml, async-timeout, tokenizers, sacremoses, huggingface-hub, fsspec, aiohttp, xxhash, transformers, sentencepiece, datasets\n",
            "  Attempting uninstall: pyyaml\n",
            "    Found existing installation: PyYAML 3.13\n",
            "    Uninstalling PyYAML-3.13:\n",
            "      Successfully uninstalled PyYAML-3.13\n",
            "Successfully installed aiohttp-3.7.4.post0 async-timeout-3.0.1 datasets-1.12.1 fsspec-2021.10.0 huggingface-hub-0.0.19 multidict-5.2.0 pyyaml-5.4.1 sacremoses-0.0.46 sentencepiece-0.1.96 tokenizers-0.10.3 transformers-4.11.3 xxhash-2.0.2 yarl-1.7.0\n"
          ]
        }
      ]
    },
    {
      "cell_type": "code",
      "metadata": {
        "colab": {
          "base_uri": "https://localhost:8080/",
          "height": 530
        },
        "id": "HHnlu_F3wZvV",
        "outputId": "89e3160d-ffc7-48d0-c794-bb98e3bb9343"
      },
      "source": [
        "from datasets import load_dataset\n",
        "from transformers import AutoTokenizer\n",
        "import numpy as np\n",
        "\n",
        "raw_datasets = load_dataset(\"glue\", \"mrpc\")\n",
        "raw_datasets"
      ],
      "execution_count": 2,
      "outputs": [
        {
          "output_type": "display_data",
          "data": {
            "application/vnd.jupyter.widget-view+json": {
              "model_id": "b58f1d4a966c4192b25ed09d2b04d860",
              "version_minor": 0,
              "version_major": 2
            },
            "text/plain": [
              "Downloading:   0%|          | 0.00/7.78k [00:00<?, ?B/s]"
            ]
          },
          "metadata": {}
        },
        {
          "output_type": "display_data",
          "data": {
            "application/vnd.jupyter.widget-view+json": {
              "model_id": "68e59b63225c43a692f7dac6d8c2a20d",
              "version_minor": 0,
              "version_major": 2
            },
            "text/plain": [
              "Downloading:   0%|          | 0.00/4.47k [00:00<?, ?B/s]"
            ]
          },
          "metadata": {}
        },
        {
          "output_type": "stream",
          "name": "stdout",
          "text": [
            "Downloading and preparing dataset glue/mrpc (download: 1.43 MiB, generated: 1.43 MiB, post-processed: Unknown size, total: 2.85 MiB) to /root/.cache/huggingface/datasets/glue/mrpc/1.0.0/dacbe3125aa31d7f70367a07a8a9e72a5a0bfeb5fc42e75c9db75b96da6053ad...\n"
          ]
        },
        {
          "output_type": "display_data",
          "data": {
            "application/vnd.jupyter.widget-view+json": {
              "model_id": "3306f59c70ca406092fd0f6c02fde8b8",
              "version_minor": 0,
              "version_major": 2
            },
            "text/plain": [
              "  0%|          | 0/3 [00:00<?, ?it/s]"
            ]
          },
          "metadata": {}
        },
        {
          "output_type": "display_data",
          "data": {
            "application/vnd.jupyter.widget-view+json": {
              "model_id": "31341eb8e2fa4d5b8da8d673bc8fa788",
              "version_minor": 0,
              "version_major": 2
            },
            "text/plain": [
              "Downloading: 0.00B [00:00, ?B/s]"
            ]
          },
          "metadata": {}
        },
        {
          "output_type": "display_data",
          "data": {
            "application/vnd.jupyter.widget-view+json": {
              "model_id": "4acc996093254ace9f47c93fd2bc9bb6",
              "version_minor": 0,
              "version_major": 2
            },
            "text/plain": [
              "Downloading: 0.00B [00:00, ?B/s]"
            ]
          },
          "metadata": {}
        },
        {
          "output_type": "display_data",
          "data": {
            "application/vnd.jupyter.widget-view+json": {
              "model_id": "072578732308413c942caaf26774c8fe",
              "version_minor": 0,
              "version_major": 2
            },
            "text/plain": [
              "Downloading: 0.00B [00:00, ?B/s]"
            ]
          },
          "metadata": {}
        },
        {
          "output_type": "display_data",
          "data": {
            "application/vnd.jupyter.widget-view+json": {
              "model_id": "a6303d3443b842478a929554b3b2a982",
              "version_minor": 0,
              "version_major": 2
            },
            "text/plain": [
              "0 examples [00:00, ? examples/s]"
            ]
          },
          "metadata": {}
        },
        {
          "output_type": "display_data",
          "data": {
            "application/vnd.jupyter.widget-view+json": {
              "model_id": "905cc7db3da94aabb011546814c3c619",
              "version_minor": 0,
              "version_major": 2
            },
            "text/plain": [
              "0 examples [00:00, ? examples/s]"
            ]
          },
          "metadata": {}
        },
        {
          "output_type": "display_data",
          "data": {
            "application/vnd.jupyter.widget-view+json": {
              "model_id": "518184c4233f4ed79286376f906cfc11",
              "version_minor": 0,
              "version_major": 2
            },
            "text/plain": [
              "0 examples [00:00, ? examples/s]"
            ]
          },
          "metadata": {}
        },
        {
          "output_type": "stream",
          "name": "stdout",
          "text": [
            "Dataset glue downloaded and prepared to /root/.cache/huggingface/datasets/glue/mrpc/1.0.0/dacbe3125aa31d7f70367a07a8a9e72a5a0bfeb5fc42e75c9db75b96da6053ad. Subsequent calls will reuse this data.\n"
          ]
        },
        {
          "output_type": "display_data",
          "data": {
            "application/vnd.jupyter.widget-view+json": {
              "model_id": "b40ddf788bf94322a70616ed760c7e5e",
              "version_minor": 0,
              "version_major": 2
            },
            "text/plain": [
              "  0%|          | 0/3 [00:00<?, ?it/s]"
            ]
          },
          "metadata": {}
        },
        {
          "output_type": "execute_result",
          "data": {
            "text/plain": [
              "DatasetDict({\n",
              "    train: Dataset({\n",
              "        features: ['sentence1', 'sentence2', 'label', 'idx'],\n",
              "        num_rows: 3668\n",
              "    })\n",
              "    validation: Dataset({\n",
              "        features: ['sentence1', 'sentence2', 'label', 'idx'],\n",
              "        num_rows: 408\n",
              "    })\n",
              "    test: Dataset({\n",
              "        features: ['sentence1', 'sentence2', 'label', 'idx'],\n",
              "        num_rows: 1725\n",
              "    })\n",
              "})"
            ]
          },
          "metadata": {},
          "execution_count": 2
        }
      ]
    },
    {
      "cell_type": "markdown",
      "metadata": {
        "id": "MS3jBP2aw0sS"
      },
      "source": [
        "## **STEP ONE:** Preprocessing + Feature Engineering\n",
        "Tasks done here:\n",
        "- tokenise by subwords\n",
        "- add [CLS], [SEP]\n",
        "- generate sequence IDs"
      ]
    },
    {
      "cell_type": "code",
      "metadata": {
        "colab": {
          "base_uri": "https://localhost:8080/",
          "height": 1000
        },
        "id": "UrVz8noZxMY0",
        "outputId": "b076acf3-6fdd-4126-da0a-35e01a593d0f"
      },
      "source": [
        "checkpoint = \"bert-base-uncased\"\n",
        "tokenizer = AutoTokenizer.from_pretrained(checkpoint)\n",
        "\n",
        "def tokenize_dataset(dataset):\n",
        "    encoded = tokenizer(\n",
        "        dataset[\"sentence1\"],\n",
        "        dataset[\"sentence2\"],\n",
        "        padding=True,\n",
        "        truncation=True,\n",
        "        return_tensors='np',\n",
        "    )\n",
        "    return encoded.data\n",
        "\n",
        "tokenized_datasets = {\n",
        "    split: tokenize_dataset(raw_datasets[split]) for split in raw_datasets.keys()\n",
        "}## prepares a dictionary that has train, test and val's tokenised tensors\n",
        "\n",
        "tokenized_datasets"
      ],
      "execution_count": 3,
      "outputs": [
        {
          "output_type": "display_data",
          "data": {
            "application/vnd.jupyter.widget-view+json": {
              "model_id": "f434a19d0ba04b829dc341319260bf23",
              "version_minor": 0,
              "version_major": 2
            },
            "text/plain": [
              "Downloading:   0%|          | 0.00/28.0 [00:00<?, ?B/s]"
            ]
          },
          "metadata": {}
        },
        {
          "output_type": "display_data",
          "data": {
            "application/vnd.jupyter.widget-view+json": {
              "model_id": "e8541ac2c08a46d88bf683e33491cdae",
              "version_minor": 0,
              "version_major": 2
            },
            "text/plain": [
              "Downloading:   0%|          | 0.00/570 [00:00<?, ?B/s]"
            ]
          },
          "metadata": {}
        },
        {
          "output_type": "display_data",
          "data": {
            "application/vnd.jupyter.widget-view+json": {
              "model_id": "3e941674f3a649828e7e1895f709dfc1",
              "version_minor": 0,
              "version_major": 2
            },
            "text/plain": [
              "Downloading:   0%|          | 0.00/226k [00:00<?, ?B/s]"
            ]
          },
          "metadata": {}
        },
        {
          "output_type": "display_data",
          "data": {
            "application/vnd.jupyter.widget-view+json": {
              "model_id": "7e91449ac7e64f149fa34140473c420a",
              "version_minor": 0,
              "version_major": 2
            },
            "text/plain": [
              "Downloading:   0%|          | 0.00/455k [00:00<?, ?B/s]"
            ]
          },
          "metadata": {}
        },
        {
          "output_type": "execute_result",
          "data": {
            "text/plain": [
              "{'test': {'attention_mask': array([[1, 1, 1, ..., 0, 0, 0],\n",
              "         [1, 1, 1, ..., 0, 0, 0],\n",
              "         [1, 1, 1, ..., 0, 0, 0],\n",
              "         ...,\n",
              "         [1, 1, 1, ..., 0, 0, 0],\n",
              "         [1, 1, 1, ..., 0, 0, 0],\n",
              "         [1, 1, 1, ..., 0, 0, 0]]),\n",
              "  'input_ids': array([[  101,  7473,  2278, ...,     0,     0,     0],\n",
              "         [  101,  1996,  2088, ...,     0,     0,     0],\n",
              "         [  101,  2429,  2000, ...,     0,     0,     0],\n",
              "         ...,\n",
              "         [  101, 16559,  5226, ...,     0,     0,     0],\n",
              "         [  101,  2197,  2733, ...,     0,     0,     0],\n",
              "         [  101, 17540,  8004, ...,     0,     0,     0]]),\n",
              "  'token_type_ids': array([[0, 0, 0, ..., 0, 0, 0],\n",
              "         [0, 0, 0, ..., 0, 0, 0],\n",
              "         [0, 0, 0, ..., 0, 0, 0],\n",
              "         ...,\n",
              "         [0, 0, 0, ..., 0, 0, 0],\n",
              "         [0, 0, 0, ..., 0, 0, 0],\n",
              "         [0, 0, 0, ..., 0, 0, 0]])},\n",
              " 'train': {'attention_mask': array([[1, 1, 1, ..., 0, 0, 0],\n",
              "         [1, 1, 1, ..., 0, 0, 0],\n",
              "         [1, 1, 1, ..., 0, 0, 0],\n",
              "         ...,\n",
              "         [1, 1, 1, ..., 0, 0, 0],\n",
              "         [1, 1, 1, ..., 0, 0, 0],\n",
              "         [1, 1, 1, ..., 0, 0, 0]]),\n",
              "  'input_ids': array([[  101,  2572,  3217, ...,     0,     0,     0],\n",
              "         [  101,  9805,  3540, ...,     0,     0,     0],\n",
              "         [  101,  2027,  2018, ...,     0,     0,     0],\n",
              "         ...,\n",
              "         [  101,  1000,  2057, ...,     0,     0,     0],\n",
              "         [  101,  1996, 26828, ...,     0,     0,     0],\n",
              "         [  101,  1996,  2382, ...,     0,     0,     0]]),\n",
              "  'token_type_ids': array([[0, 0, 0, ..., 0, 0, 0],\n",
              "         [0, 0, 0, ..., 0, 0, 0],\n",
              "         [0, 0, 0, ..., 0, 0, 0],\n",
              "         ...,\n",
              "         [0, 0, 0, ..., 0, 0, 0],\n",
              "         [0, 0, 0, ..., 0, 0, 0],\n",
              "         [0, 0, 0, ..., 0, 0, 0]])},\n",
              " 'validation': {'attention_mask': array([[1, 1, 1, ..., 0, 0, 0],\n",
              "         [1, 1, 1, ..., 0, 0, 0],\n",
              "         [1, 1, 1, ..., 0, 0, 0],\n",
              "         ...,\n",
              "         [1, 1, 1, ..., 0, 0, 0],\n",
              "         [1, 1, 1, ..., 0, 0, 0],\n",
              "         [1, 1, 1, ..., 0, 0, 0]]),\n",
              "  'input_ids': array([[  101,  2002,  2056, ...,     0,     0,     0],\n",
              "         [  101, 20201, 22948, ...,     0,     0,     0],\n",
              "         [  101,  1996,  7922, ...,     0,     0,     0],\n",
              "         ...,\n",
              "         [  101,  2651,  1999, ...,     0,     0,     0],\n",
              "         [  101,  1996,  1055, ...,     0,     0,     0],\n",
              "         [  101,  4654,  1011, ...,     0,     0,     0]]),\n",
              "  'token_type_ids': array([[0, 0, 0, ..., 0, 0, 0],\n",
              "         [0, 0, 0, ..., 0, 0, 0],\n",
              "         [0, 0, 0, ..., 0, 0, 0],\n",
              "         ...,\n",
              "         [0, 0, 0, ..., 0, 0, 0],\n",
              "         [0, 0, 0, ..., 0, 0, 0],\n",
              "         [0, 0, 0, ..., 0, 0, 0]])}}"
            ]
          },
          "metadata": {},
          "execution_count": 3
        }
      ]
    },
    {
      "cell_type": "markdown",
      "metadata": {
        "id": "58Y6AJrKxoNV"
      },
      "source": [
        "## **STEP TWO**: BRAIN BUILDING\n",
        "Tasks done here\n",
        "- Import BERT transformer (replace its head with sequence classifier head)\n",
        "- Set stuff for model\n",
        "- Train"
      ]
    },
    {
      "cell_type": "code",
      "metadata": {
        "colab": {
          "base_uri": "https://localhost:8080/",
          "height": 116,
          "referenced_widgets": [
            "5aef0978b9ac49e99270c2a7b7e903c9",
            "022dc38af6614878b6b1c0a864375728",
            "d751f54eae2f445386833eebd146490d",
            "6f582eca98e047d2bb5d09247bc15bbd",
            "22022e72cd4d4dc4bd2e7f1e82a451a5",
            "b6d712abcc1e496e8a24664f0065d2fe",
            "40b1e82c54da405dbf2891af7a6d039c",
            "001d8c319b0b46e9b14efe44998a61f1",
            "1dd6b2c49139453c887b7c0e27b47efe",
            "c5659e610e184f79bbe4b2418bfd0412",
            "663361e84afe420489b03f33b7e459cf"
          ]
        },
        "id": "4B1Pq_m6wZvY",
        "outputId": "6247be85-75a8-4eb6-eb8e-d98db701a85e"
      },
      "source": [
        "from transformers import TFAutoModelForSequenceClassification\n",
        "\n",
        "model = TFAutoModelForSequenceClassification.from_pretrained(checkpoint, num_labels=2)"
      ],
      "execution_count": 4,
      "outputs": [
        {
          "output_type": "display_data",
          "data": {
            "application/vnd.jupyter.widget-view+json": {
              "model_id": "5aef0978b9ac49e99270c2a7b7e903c9",
              "version_minor": 0,
              "version_major": 2
            },
            "text/plain": [
              "Downloading:   0%|          | 0.00/511M [00:00<?, ?B/s]"
            ]
          },
          "metadata": {}
        },
        {
          "output_type": "stream",
          "name": "stderr",
          "text": [
            "All model checkpoint layers were used when initializing TFBertForSequenceClassification.\n",
            "\n",
            "Some layers of TFBertForSequenceClassification were not initialized from the model checkpoint at bert-base-uncased and are newly initialized: ['classifier']\n",
            "You should probably TRAIN this model on a down-stream task to be able to use it for predictions and inference.\n"
          ]
        }
      ]
    },
    {
      "cell_type": "code",
      "metadata": {
        "colab": {
          "base_uri": "https://localhost:8080/"
        },
        "id": "kfnxIW102bHx",
        "outputId": "7efc4fc8-1541-4d7d-9f25-a57d088ec596"
      },
      "source": [
        "model.summary()"
      ],
      "execution_count": 8,
      "outputs": [
        {
          "output_type": "stream",
          "name": "stdout",
          "text": [
            "Model: \"tf_bert_for_sequence_classification\"\n",
            "_________________________________________________________________\n",
            "Layer (type)                 Output Shape              Param #   \n",
            "=================================================================\n",
            "bert (TFBertMainLayer)       multiple                  109482240 \n",
            "_________________________________________________________________\n",
            "dropout_37 (Dropout)         multiple                  0         \n",
            "_________________________________________________________________\n",
            "classifier (Dense)           multiple                  1538      \n",
            "=================================================================\n",
            "Total params: 109,483,778\n",
            "Trainable params: 109,483,778\n",
            "Non-trainable params: 0\n",
            "_________________________________________________________________\n"
          ]
        }
      ]
    },
    {
      "cell_type": "code",
      "metadata": {
        "colab": {
          "base_uri": "https://localhost:8080/"
        },
        "id": "jt6pYKl1wZvZ",
        "outputId": "58752393-5877-4681-c883-a07834d5359d"
      },
      "source": [
        "from tensorflow.keras.losses import SparseCategoricalCrossentropy\n",
        "\n",
        "model.compile(\n",
        "    optimizer='adam',\n",
        "    loss=SparseCategoricalCrossentropy(from_logits=True), ## VERY IMP\n",
        "    metrics=['accuracy'],\n",
        ")\n",
        "model.fit(\n",
        "    tokenized_datasets['train'],\n",
        "    np.array(raw_datasets['train']['label']), \n",
        "    validation_data=(\n",
        "        tokenized_datasets['validation'],\n",
        "        np.array(raw_datasets['validation']['label']),\n",
        "    ),\n",
        "    batch_size=8\n",
        ")"
      ],
      "execution_count": 6,
      "outputs": [
        {
          "output_type": "stream",
          "name": "stdout",
          "text": [
            "459/459 [==============================] - 202s 397ms/step - loss: 0.6899 - accuracy: 0.6317 - val_loss: 0.6391 - val_accuracy: 0.6838\n"
          ]
        },
        {
          "output_type": "execute_result",
          "data": {
            "text/plain": [
              "<keras.callbacks.History at 0x7f28102cac10>"
            ]
          },
          "metadata": {},
          "execution_count": 6
        }
      ]
    },
    {
      "cell_type": "code",
      "metadata": {
        "id": "bmgdl9OOwZva"
      },
      "source": [
        "from tensorflow.keras.optimizers.schedules import PolynomialDecay\n",
        "batch_size = 8\n",
        "num_epochs = 1\n",
        "# The number of training steps is the number of samples in the dataset, divided by the batch size then multiplied\n",
        "# by the total number of epochs\n",
        "num_train_steps = (len(tokenized_datasets['train']['input_ids']) // batch_size) * num_epochs\n",
        "lr_scheduler = PolynomialDecay(\n",
        "    initial_learning_rate=5e-5,\n",
        "    end_learning_rate=0.,\n",
        "    decay_steps=num_train_steps\n",
        "    )\n",
        "from tensorflow.keras.optimizers import Adam\n",
        "opt = Adam(learning_rate=lr_scheduler)"
      ],
      "execution_count": 9,
      "outputs": []
    },
    {
      "cell_type": "code",
      "metadata": {
        "colab": {
          "base_uri": "https://localhost:8080/"
        },
        "id": "9WnHbX7DwZvc",
        "outputId": "31d672c9-741e-4625-baa5-ddf35bfefa1d"
      },
      "source": [
        "import tensorflow as tf\n",
        "\n",
        "model = TFAutoModelForSequenceClassification.from_pretrained(checkpoint, num_labels=2)\n",
        "loss = tf.keras.losses.SparseCategoricalCrossentropy(from_logits=True)\n",
        "model.compile(optimizer=opt, loss=loss)\n",
        "model.fit(\n",
        "    tokenized_datasets['train'],\n",
        "    np.array(raw_datasets['train']['label']), \n",
        "    validation_data=(\n",
        "        tokenized_datasets['validation'],\n",
        "        np.array(raw_datasets['validation']['label']),\n",
        "    ),\n",
        "    batch_size=8\n",
        ")"
      ],
      "execution_count": 11,
      "outputs": [
        {
          "output_type": "stream",
          "name": "stderr",
          "text": [
            "All model checkpoint layers were used when initializing TFBertForSequenceClassification.\n",
            "\n",
            "Some layers of TFBertForSequenceClassification were not initialized from the model checkpoint at bert-base-uncased and are newly initialized: ['classifier']\n",
            "You should probably TRAIN this model on a down-stream task to be able to use it for predictions and inference.\n"
          ]
        },
        {
          "output_type": "stream",
          "name": "stdout",
          "text": [
            "459/459 [==============================] - 202s 398ms/step - loss: 0.5320 - val_loss: 0.3651\n"
          ]
        },
        {
          "output_type": "execute_result",
          "data": {
            "text/plain": [
              "<keras.callbacks.History at 0x7f27a09ddf50>"
            ]
          },
          "metadata": {},
          "execution_count": 11
        }
      ]
    },
    {
      "cell_type": "code",
      "metadata": {
        "id": "ffHjrMHXwZvi"
      },
      "source": [
        "class F1_metric(tf.keras.metrics.Metric):\n",
        "    def __init__(self, name='f1_score', **kwargs):\n",
        "        super().__init__(name=name, **kwargs)\n",
        "        # Initialize our metric by initializing the two metrics it's based on:\n",
        "        # Precision and Recall\n",
        "        self.precision = tf.keras.metrics.Precision()\n",
        "        self.recall = tf.keras.metrics.Recall()\n",
        "\n",
        "    def update_state(self, y_true, y_pred, sample_weight=None):\n",
        "        # Update our metric by updating the two metrics it's based on\n",
        "        class_preds = tf.math.argmax(y_pred, axis=1)\n",
        "        self.precision.update_state(y_true, class_preds, sample_weight)\n",
        "        self.recall.update_state(y_true, class_preds, sample_weight)\n",
        "\n",
        "    def reset_state(self):\n",
        "        self.precision.reset_state()\n",
        "        self.recall.reset_state()\n",
        "\n",
        "    def result(self):\n",
        "        # To get the F1 result, we compute the harmonic mean of the current\n",
        "        # precision and recall\n",
        "        return 2 / ((1 / self.precision.result()) + (1 / self.recall.result())) "
      ],
      "execution_count": 17,
      "outputs": []
    },
    {
      "cell_type": "code",
      "metadata": {
        "colab": {
          "base_uri": "https://localhost:8080/"
        },
        "id": "W4QbRycWwZvk",
        "outputId": "139fe985-ed18-44ed-f1d7-87e6f9d03ffc"
      },
      "source": [
        "model = TFAutoModelForSequenceClassification.from_pretrained(checkpoint, num_labels=2)\n",
        "lr_scheduler = PolynomialDecay(\n",
        "    initial_learning_rate=5e-5,\n",
        "    end_learning_rate=0.,\n",
        "    decay_steps=num_train_steps\n",
        "    )\n",
        "opt = Adam(learning_rate=lr_scheduler)\n",
        "model.compile(optimizer=opt, loss=loss, metrics=['accuracy', F1_metric()])\n",
        "model.fit(\n",
        "    tokenized_datasets['train'],\n",
        "    np.array(raw_datasets['train']['label']),\n",
        "    validation_data=(tokenized_datasets['validation'], np.array(raw_datasets['validation']['label'])),\n",
        "    batch_size=8,\n",
        "    epochs=3\n",
        ")"
      ],
      "execution_count": null,
      "outputs": [
        {
          "output_type": "stream",
          "name": "stderr",
          "text": [
            "All model checkpoint layers were used when initializing TFBertForSequenceClassification.\n",
            "\n",
            "Some layers of TFBertForSequenceClassification were not initialized from the model checkpoint at bert-base-uncased and are newly initialized: ['classifier']\n",
            "You should probably TRAIN this model on a down-stream task to be able to use it for predictions and inference.\n"
          ]
        },
        {
          "output_type": "stream",
          "name": "stdout",
          "text": [
            "Epoch 1/3\n",
            "459/459 [==============================] - 204s 401ms/step - loss: 0.5377 - accuracy: 0.7274 - f1_score: 0.8158 - val_loss: 0.3661 - val_accuracy: 0.8407 - val_f1_score: 0.8862\n",
            "Epoch 2/3\n",
            "459/459 [==============================] - 182s 397ms/step - loss: 0.3234 - accuracy: 0.8642 - f1_score: 0.8986 - val_loss: 0.3661 - val_accuracy: 0.8407 - val_f1_score: 0.8862\n",
            "Epoch 3/3\n",
            "245/459 [===============>..............] - ETA: 1:22 - loss: 0.3227 - accuracy: 0.8679 - f1_score: 0.9007"
          ]
        }
      ]
    },
    {
      "cell_type": "markdown",
      "metadata": {
        "id": "tRCfRSJy6QAv"
      },
      "source": [
        "## **STEP FOUR**: Prediction and evaluation\n",
        "\n",
        "Tasks done here:\n",
        "- Pass validation dataset to model to get `logits`\n",
        "- convert `logits` to `probabilities` and/or then to `class_predictions`"
      ]
    },
    {
      "cell_type": "code",
      "metadata": {
        "colab": {
          "base_uri": "https://localhost:8080/"
        },
        "id": "RWjkJNmswZvd",
        "outputId": "add537bd-1c09-4d17-e96f-687613b17e83"
      },
      "source": [
        "preds = model.predict(tokenized_datasets['validation'])['logits']\n",
        "\n",
        "model.predict(tokenized_datasets['validation'])"
      ],
      "execution_count": 14,
      "outputs": [
        {
          "output_type": "execute_result",
          "data": {
            "text/plain": [
              "TFSequenceClassifierOutput([('logits',\n",
              "                             array([[-1.94257033e+00,  1.57106125e+00],\n",
              "                                    [ 9.39822614e-01,  9.91308168e-02],\n",
              "                                    [ 6.83423162e-01,  1.00472592e-01],\n",
              "                                    [-1.11408901e+00,  1.00788760e+00],\n",
              "                                    [ 9.71872568e-01,  1.00507990e-01],\n",
              "                                    [-1.48447943e+00,  1.31783235e+00],\n",
              "                                    [ 1.03325948e-01,  5.24246633e-01],\n",
              "                                    [-1.70441830e+00,  1.40830112e+00],\n",
              "                                    [-5.65391064e-01,  8.85207355e-01],\n",
              "                                    [-1.81744504e+00,  1.46936810e+00],\n",
              "                                    [-1.70544302e+00,  1.32569206e+00],\n",
              "                                    [ 5.21274269e-01,  1.07376412e-01],\n",
              "                                    [ 7.59158552e-01, -7.50378847e-01],\n",
              "                                    [-3.70299816e-01,  6.91201270e-01],\n",
              "                                    [-1.89514184e+00,  1.43825352e+00],\n",
              "                                    [ 4.04170394e-01,  3.53319675e-01],\n",
              "                                    [-1.95721328e+00,  1.75261796e+00],\n",
              "                                    [ 8.97863925e-01, -5.52876413e-01],\n",
              "                                    [-1.98518586e+00,  1.72023511e+00],\n",
              "                                    [ 7.50953257e-01,  2.12521970e-01],\n",
              "                                    [ 8.40628743e-01,  3.68066616e-02],\n",
              "                                    [-1.74878642e-01,  6.60903931e-01],\n",
              "                                    [ 7.17082977e-01,  1.11317314e-01],\n",
              "                                    [-1.49782872e+00,  9.54295158e-01],\n",
              "                                    [-1.75594473e+00,  1.46767712e+00],\n",
              "                                    [-7.72540718e-02,  5.31543493e-01],\n",
              "                                    [ 1.13742389e-01,  2.74538189e-01],\n",
              "                                    [-1.96665132e+00,  1.77107167e+00],\n",
              "                                    [-2.88086474e-01,  5.79566300e-01],\n",
              "                                    [-1.75872624e+00,  1.30021894e+00],\n",
              "                                    [ 3.61163676e-01,  2.95824677e-01],\n",
              "                                    [-1.99042654e+00,  1.71589851e+00],\n",
              "                                    [ 1.83361638e-02,  3.91320407e-01],\n",
              "                                    [-3.28871757e-02,  4.40161377e-01],\n",
              "                                    [-1.87929034e+00,  1.53955054e+00],\n",
              "                                    [-1.28702295e+00,  1.04421461e+00],\n",
              "                                    [ 6.08551443e-01,  1.99425966e-01],\n",
              "                                    [ 7.43660569e-01,  2.04094589e-01],\n",
              "                                    [-1.20358825e+00,  6.62784815e-01],\n",
              "                                    [-1.95959425e+00,  1.76208663e+00],\n",
              "                                    [ 6.28753603e-01,  1.52276069e-01],\n",
              "                                    [-1.30777740e+00,  1.33087623e+00],\n",
              "                                    [ 4.41179454e-01,  1.43294722e-01],\n",
              "                                    [ 6.85469329e-01,  1.33281291e-01],\n",
              "                                    [ 8.39280367e-01,  8.77527744e-02],\n",
              "                                    [-1.86180329e+00,  1.69131541e+00],\n",
              "                                    [-1.96866202e+00,  1.61159551e+00],\n",
              "                                    [ 7.51242995e-01,  2.03588277e-01],\n",
              "                                    [-1.12680697e+00,  1.09353566e+00],\n",
              "                                    [-1.53977013e+00,  1.17106044e+00],\n",
              "                                    [-1.25946236e+00,  1.08826411e+00],\n",
              "                                    [-3.67718935e-01,  6.67721272e-01],\n",
              "                                    [-1.18745267e+00,  1.34314036e+00],\n",
              "                                    [-1.88911700e+00,  1.65036571e+00],\n",
              "                                    [-1.51854146e+00,  1.05677545e+00],\n",
              "                                    [-8.30494642e-01,  1.06787002e+00],\n",
              "                                    [ 6.09921575e-01,  1.17133193e-01],\n",
              "                                    [-1.49802482e+00,  1.43829381e+00],\n",
              "                                    [-1.80889702e+00,  1.66242409e+00],\n",
              "                                    [-8.80589664e-01,  5.47732770e-01],\n",
              "                                    [ 1.82916731e-01,  3.65750134e-01],\n",
              "                                    [ 1.76629990e-01,  4.52072114e-01],\n",
              "                                    [-1.90915453e+00,  1.62216425e+00],\n",
              "                                    [ 2.57273704e-01,  6.52648211e-01],\n",
              "                                    [-1.28018987e+00,  1.17474735e+00],\n",
              "                                    [ 7.85067737e-01,  1.43680200e-02],\n",
              "                                    [-1.96685326e+00,  1.66001868e+00],\n",
              "                                    [-1.92898262e+00,  1.53828323e+00],\n",
              "                                    [-1.67945072e-01,  3.24531555e-01],\n",
              "                                    [-1.55127299e+00,  1.45537472e+00],\n",
              "                                    [-1.85061502e+00,  1.24735093e+00],\n",
              "                                    [ 5.00658214e-01,  7.36259744e-02],\n",
              "                                    [-1.87786734e+00,  1.54372692e+00],\n",
              "                                    [-1.05484986e+00,  9.30330098e-01],\n",
              "                                    [-6.08850837e-01,  7.75645077e-01],\n",
              "                                    [-1.00195944e+00,  1.09520221e+00],\n",
              "                                    [-1.46090817e+00,  1.51725280e+00],\n",
              "                                    [-1.95016968e+00,  1.68855953e+00],\n",
              "                                    [-1.64566219e+00,  1.02821290e+00],\n",
              "                                    [-1.53581977e+00,  1.59864593e+00],\n",
              "                                    [ 9.90505442e-02,  4.19237018e-01],\n",
              "                                    [-1.36556447e+00,  1.21884954e+00],\n",
              "                                    [-1.81474090e+00,  1.44652796e+00],\n",
              "                                    [ 2.72328049e-01,  2.92451352e-01],\n",
              "                                    [-1.55592144e+00,  1.37512684e+00],\n",
              "                                    [ 8.09629679e-01,  9.25258398e-02],\n",
              "                                    [-1.04055679e+00,  1.04812384e+00],\n",
              "                                    [ 4.75107599e-03,  5.39509475e-01],\n",
              "                                    [-1.86389649e+00,  1.64909780e+00],\n",
              "                                    [-1.99617350e+00,  1.70844030e+00],\n",
              "                                    [ 6.31597221e-01,  2.15597272e-01],\n",
              "                                    [-1.75452352e+00,  1.55514991e+00],\n",
              "                                    [-1.50165164e+00,  1.37846851e+00],\n",
              "                                    [-1.56867456e+00,  1.30251634e+00],\n",
              "                                    [-1.51288223e+00,  1.28032136e+00],\n",
              "                                    [-1.76423049e+00,  1.56934059e+00],\n",
              "                                    [ 6.80455267e-01,  3.32260698e-01],\n",
              "                                    [-1.26660204e+00,  1.18360579e+00],\n",
              "                                    [-1.30127347e+00,  1.18038142e+00],\n",
              "                                    [-1.25769985e+00,  9.77424860e-01],\n",
              "                                    [-1.84281027e+00,  1.34775710e+00],\n",
              "                                    [ 6.22734547e-01,  3.67806256e-01],\n",
              "                                    [-1.23495495e+00,  1.21079290e+00],\n",
              "                                    [-1.94898045e+00,  1.59832537e+00],\n",
              "                                    [ 5.04056156e-01,  3.38066816e-01],\n",
              "                                    [-1.86938202e+00,  1.42322791e+00],\n",
              "                                    [-3.63171548e-01,  8.03438783e-01],\n",
              "                                    [ 8.31674337e-01,  1.06820941e-01],\n",
              "                                    [ 8.46521616e-01,  1.34566694e-01],\n",
              "                                    [-1.54222369e+00,  1.33851612e+00],\n",
              "                                    [-6.83665931e-01,  8.93922627e-01],\n",
              "                                    [-4.49251980e-01,  7.95440555e-01],\n",
              "                                    [-9.40008342e-01,  4.39097613e-01],\n",
              "                                    [-1.97449934e+00,  1.77022123e+00],\n",
              "                                    [-4.43579912e-01,  7.19048023e-01],\n",
              "                                    [ 2.62703240e-01,  1.38939112e-01],\n",
              "                                    [-1.74383759e+00,  1.47928751e+00],\n",
              "                                    [-1.81621850e+00,  1.47294819e+00],\n",
              "                                    [-1.74350333e+00,  1.37687790e+00],\n",
              "                                    [-1.93785036e+00,  1.60592186e+00],\n",
              "                                    [-1.67576528e+00,  1.44987142e+00],\n",
              "                                    [ 1.12146489e-01,  1.17865980e-01],\n",
              "                                    [ 8.00463736e-01,  1.51502281e-01],\n",
              "                                    [-1.75314391e+00,  1.22412848e+00],\n",
              "                                    [-1.91248989e+00,  1.64283061e+00],\n",
              "                                    [-1.78649950e+00,  1.22714782e+00],\n",
              "                                    [-1.63810301e+00,  1.46742475e+00],\n",
              "                                    [ 7.04726815e-01,  1.89266652e-01],\n",
              "                                    [-1.76456118e+00,  1.40001833e+00],\n",
              "                                    [-1.70032990e+00,  1.29212666e+00],\n",
              "                                    [-1.92239845e+00,  1.59613407e+00],\n",
              "                                    [ 4.89838660e-01,  3.21638137e-01],\n",
              "                                    [-1.38065314e+00,  1.34945643e+00],\n",
              "                                    [ 4.93732467e-02,  4.72282857e-01],\n",
              "                                    [-1.06680107e+00,  1.29252219e+00],\n",
              "                                    [-1.17955673e+00,  1.02053654e+00],\n",
              "                                    [ 4.46519524e-01,  1.98701710e-01],\n",
              "                                    [ 7.49657691e-01,  4.06778678e-02],\n",
              "                                    [-2.00133657e+00,  1.63607812e+00],\n",
              "                                    [-1.56661916e+00,  1.12218368e+00],\n",
              "                                    [-1.95268333e+00,  1.67215073e+00],\n",
              "                                    [ 3.86993468e-01,  1.54093891e-01],\n",
              "                                    [ 7.88583040e-01,  6.69140443e-02],\n",
              "                                    [-1.29476810e+00,  8.07865977e-01],\n",
              "                                    [ 8.53065252e-01,  8.62151161e-02],\n",
              "                                    [ 4.10732865e-01,  4.05853093e-01],\n",
              "                                    [-1.97876537e+00,  1.71705818e+00],\n",
              "                                    [-6.87339008e-01,  5.44194996e-01],\n",
              "                                    [ 1.53751835e-01,  2.60987192e-01],\n",
              "                                    [-1.48862004e+00,  1.12178981e+00],\n",
              "                                    [ 5.54168761e-01,  2.68686146e-01],\n",
              "                                    [-1.11823332e+00,  8.47106338e-01],\n",
              "                                    [-4.11013424e-01,  5.64318240e-01],\n",
              "                                    [-1.97716367e+00,  1.68714046e+00],\n",
              "                                    [ 4.77478266e-01,  4.83321816e-01],\n",
              "                                    [-1.57058895e+00,  1.33964920e+00],\n",
              "                                    [-1.51217055e+00,  1.34869897e+00],\n",
              "                                    [-3.26729476e-01,  7.96552122e-01],\n",
              "                                    [ 3.81131709e-01,  4.00829166e-01],\n",
              "                                    [-9.18608546e-01,  7.96093762e-01],\n",
              "                                    [-1.41236424e+00,  1.25317454e+00],\n",
              "                                    [-1.66031444e+00,  1.40252674e+00],\n",
              "                                    [-1.98074520e+00,  1.75109196e+00],\n",
              "                                    [-1.93195307e+00,  1.73718667e+00],\n",
              "                                    [-1.02598929e+00,  9.72477019e-01],\n",
              "                                    [-1.71822500e+00,  1.44057369e+00],\n",
              "                                    [-1.90197721e-01,  5.75983942e-01],\n",
              "                                    [ 6.82078063e-01,  2.46602416e-01],\n",
              "                                    [-1.47689199e+00,  1.19799566e+00],\n",
              "                                    [ 6.04609609e-01,  1.41171694e-01],\n",
              "                                    [ 4.29005444e-01,  3.72111559e-01],\n",
              "                                    [ 3.37242097e-01,  4.02910531e-01],\n",
              "                                    [ 6.14818037e-01,  2.57890373e-01],\n",
              "                                    [-1.21930921e+00,  7.48627007e-01],\n",
              "                                    [ 1.77718401e-01,  3.17838311e-01],\n",
              "                                    [-7.27470517e-01,  9.03202236e-01],\n",
              "                                    [-9.62017715e-01,  1.17379618e+00],\n",
              "                                    [ 5.58727086e-01,  2.60642856e-01],\n",
              "                                    [-1.87477362e+00,  1.54332137e+00],\n",
              "                                    [-1.79668128e+00,  1.63168228e+00],\n",
              "                                    [ 4.16065723e-01,  3.48386556e-01],\n",
              "                                    [-6.04909956e-01,  6.72542155e-01],\n",
              "                                    [ 1.36098161e-01,  4.43625957e-01],\n",
              "                                    [-1.82544184e+00,  1.42367721e+00],\n",
              "                                    [ 1.45489037e-01,  3.73897135e-01],\n",
              "                                    [-1.48376155e+00,  8.93381238e-01],\n",
              "                                    [ 6.96168244e-01,  2.56601512e-01],\n",
              "                                    [ 4.67836291e-01,  4.13855523e-01],\n",
              "                                    [ 8.97017717e-01,  9.15355533e-02],\n",
              "                                    [-1.37340832e+00,  1.23335254e+00],\n",
              "                                    [-1.02476525e+00,  1.12470901e+00],\n",
              "                                    [ 6.67753518e-01, -2.75569502e-02],\n",
              "                                    [ 6.62528098e-01,  3.22956353e-01],\n",
              "                                    [-1.88644946e+00,  1.62667131e+00],\n",
              "                                    [-3.38302776e-02,  5.02511501e-01],\n",
              "                                    [-5.37570417e-01,  8.42114151e-01],\n",
              "                                    [-1.94237709e+00,  1.66535270e+00],\n",
              "                                    [ 4.46932733e-01,  3.60569090e-01],\n",
              "                                    [-6.39212072e-01,  6.20370746e-01],\n",
              "                                    [-1.65908742e+00,  1.24568093e+00],\n",
              "                                    [-1.48097467e+00,  1.43168938e+00],\n",
              "                                    [ 4.61436570e-01,  2.12431729e-01],\n",
              "                                    [ 6.69490755e-01, -8.26354697e-02],\n",
              "                                    [-4.18712139e-01,  8.70677531e-01],\n",
              "                                    [-8.95266771e-01,  1.16257095e+00],\n",
              "                                    [ 5.25769174e-01,  2.30640858e-01],\n",
              "                                    [-1.71597171e+00,  1.41043735e+00],\n",
              "                                    [-9.03422654e-01,  1.11346745e+00],\n",
              "                                    [ 5.19071102e-01,  3.38104069e-01],\n",
              "                                    [ 4.39730972e-01,  1.04839124e-01],\n",
              "                                    [-2.89447814e-01,  3.88973087e-01],\n",
              "                                    [-1.00738846e-01,  5.33610463e-01],\n",
              "                                    [ 1.78922147e-01,  4.65703249e-01],\n",
              "                                    [ 7.41482079e-01,  1.07379325e-01],\n",
              "                                    [-1.65374601e+00,  1.02438986e+00],\n",
              "                                    [-1.94460642e+00,  1.65832961e+00],\n",
              "                                    [-1.25043154e-01,  5.60541749e-01],\n",
              "                                    [-1.67887425e+00,  1.25969648e+00],\n",
              "                                    [ 6.59668803e-01,  1.50410563e-01],\n",
              "                                    [-1.08665597e+00,  1.08299112e+00],\n",
              "                                    [ 6.69771254e-01,  2.37158477e-01],\n",
              "                                    [-1.28932858e+00,  7.42498696e-01],\n",
              "                                    [-1.76225770e+00,  1.14086342e+00],\n",
              "                                    [ 6.49212480e-01, -1.39715532e-02],\n",
              "                                    [-1.93263102e+00,  1.71406674e+00],\n",
              "                                    [-1.93227875e+00,  1.60868371e+00],\n",
              "                                    [-1.93620610e+00,  1.63014209e+00],\n",
              "                                    [-1.59848177e+00,  1.44834185e+00],\n",
              "                                    [-9.17349339e-01,  1.10791290e+00],\n",
              "                                    [-9.90018249e-01,  1.21498609e+00],\n",
              "                                    [-1.44971776e+00,  1.36359620e+00],\n",
              "                                    [-1.69262147e+00,  1.51669466e+00],\n",
              "                                    [ 1.16426125e-01,  6.48158610e-01],\n",
              "                                    [ 3.91903073e-01,  3.12027007e-01],\n",
              "                                    [ 2.03365460e-01,  4.43651378e-01],\n",
              "                                    [ 7.08297253e-01,  2.02241033e-01],\n",
              "                                    [ 6.94474041e-01,  2.80453771e-01],\n",
              "                                    [ 4.15769309e-01,  2.87478238e-01],\n",
              "                                    [-1.27725035e-01,  6.43037915e-01],\n",
              "                                    [ 1.66513652e-01,  4.64250982e-01],\n",
              "                                    [-1.31159151e+00,  1.09377730e+00],\n",
              "                                    [ 8.95482242e-01,  3.77449766e-02],\n",
              "                                    [-8.21814179e-01,  9.01202559e-01],\n",
              "                                    [-9.56357718e-01,  1.11628485e+00],\n",
              "                                    [-1.61592591e+00,  1.05090857e+00],\n",
              "                                    [-1.63505244e+00,  1.19375646e+00],\n",
              "                                    [-9.68918681e-01,  1.26261055e+00],\n",
              "                                    [-6.62015021e-01,  7.76507437e-01],\n",
              "                                    [-9.92837012e-01,  1.22269738e+00],\n",
              "                                    [-8.81381154e-01,  8.39981139e-01],\n",
              "                                    [-1.00280309e+00,  1.09525502e+00],\n",
              "                                    [ 2.56279916e-01,  4.09000576e-01],\n",
              "                                    [ 5.64519942e-01,  1.79842383e-01],\n",
              "                                    [ 2.74002671e-01,  2.84944564e-01],\n",
              "                                    [ 5.82961738e-01,  9.19721425e-02],\n",
              "                                    [ 9.14189219e-01,  6.88499808e-02],\n",
              "                                    [-7.61075318e-01,  1.04605615e+00],\n",
              "                                    [-1.52482748e+00,  1.37468743e+00],\n",
              "                                    [-8.48710597e-01,  7.49144077e-01],\n",
              "                                    [ 3.18044096e-01,  3.69058132e-01],\n",
              "                                    [-9.09954190e-01,  1.03531516e+00],\n",
              "                                    [-1.04780281e+00,  7.42846251e-01],\n",
              "                                    [-1.30953825e+00,  1.31869650e+00],\n",
              "                                    [-2.19757870e-01,  6.99013174e-01],\n",
              "                                    [ 6.22954786e-01,  2.62543172e-01],\n",
              "                                    [ 1.02161705e-01,  6.10040724e-01],\n",
              "                                    [ 2.25585848e-01,  3.18920374e-01],\n",
              "                                    [ 5.23568690e-01,  3.16364497e-01],\n",
              "                                    [ 6.75526738e-01,  9.69239026e-02],\n",
              "                                    [-6.44132793e-01,  6.01661444e-01],\n",
              "                                    [ 5.41294456e-01,  2.26592064e-01],\n",
              "                                    [-1.58551061e+00,  1.54242587e+00],\n",
              "                                    [-1.89988422e+00,  1.60388780e+00],\n",
              "                                    [-1.92448890e+00,  1.65090489e+00],\n",
              "                                    [-1.87185585e+00,  1.38318384e+00],\n",
              "                                    [-1.65131950e+00,  1.02734113e+00],\n",
              "                                    [-1.37035620e+00,  1.28679633e+00],\n",
              "                                    [ 6.24125004e-01,  2.21551061e-01],\n",
              "                                    [-1.28492963e+00,  1.28716695e+00],\n",
              "                                    [ 8.55587184e-01,  1.03300564e-01],\n",
              "                                    [-8.23957980e-01,  1.00149107e+00],\n",
              "                                    [ 1.50834367e-01,  3.67488503e-01],\n",
              "                                    [-1.75315455e-01,  4.06067222e-01],\n",
              "                                    [ 5.02641022e-01,  1.78571820e-01],\n",
              "                                    [ 5.22760272e-01,  4.05735344e-01],\n",
              "                                    [-1.75415301e+00,  1.37102830e+00],\n",
              "                                    [-1.83542907e+00,  1.56148851e+00],\n",
              "                                    [ 2.98386544e-01,  4.06044871e-01],\n",
              "                                    [-1.55636072e+00,  1.30212247e+00],\n",
              "                                    [ 4.35660899e-01,  1.58333987e-01],\n",
              "                                    [ 2.78832704e-01,  4.30219233e-01],\n",
              "                                    [ 7.81514108e-01,  1.86656535e-01],\n",
              "                                    [-1.95372188e+00,  1.64316165e+00],\n",
              "                                    [-6.27304316e-01,  8.66450846e-01],\n",
              "                                    [-8.38781714e-01,  9.18546796e-01],\n",
              "                                    [ 5.60510159e-01,  3.20720524e-01],\n",
              "                                    [ 6.25998497e-01,  1.76895410e-01],\n",
              "                                    [-3.40082735e-01,  6.99058414e-01],\n",
              "                                    [-1.87297630e+00,  1.57020593e+00],\n",
              "                                    [-1.01813102e+00,  1.13444841e+00],\n",
              "                                    [-1.87313378e+00,  1.70111561e+00],\n",
              "                                    [-1.78578079e+00,  1.41367078e+00],\n",
              "                                    [-1.42852843e+00,  1.33202517e+00],\n",
              "                                    [ 3.50185573e-01,  4.21653837e-01],\n",
              "                                    [-1.01560473e+00,  9.05829012e-01],\n",
              "                                    [-8.94720614e-01,  5.05313158e-01],\n",
              "                                    [ 8.46538842e-01,  7.94226527e-02],\n",
              "                                    [-1.88243639e+00,  1.62200022e+00],\n",
              "                                    [ 2.64307261e-01,  3.76317769e-01],\n",
              "                                    [-2.95411944e-01,  6.29662275e-01],\n",
              "                                    [ 1.49328681e-02,  2.27636456e-01],\n",
              "                                    [-1.79998863e+00,  1.54058516e+00],\n",
              "                                    [ 4.40119028e-01,  4.89777356e-01],\n",
              "                                    [ 7.31881618e-01,  1.22319154e-01],\n",
              "                                    [-1.87920082e+00,  1.53961086e+00],\n",
              "                                    [ 6.05198145e-01,  2.13442832e-01],\n",
              "                                    [ 3.89333159e-01,  4.09509242e-01],\n",
              "                                    [-1.88050961e+00,  1.34978592e+00],\n",
              "                                    [ 5.92849374e-01,  3.05828661e-01],\n",
              "                                    [ 5.93481481e-01,  9.96483415e-02],\n",
              "                                    [ 7.62240291e-01,  1.22764511e-02],\n",
              "                                    [ 6.34633243e-01,  1.49269730e-01],\n",
              "                                    [ 7.25942194e-01, -6.81940675e-01],\n",
              "                                    [-4.02276069e-01,  6.05493069e-01],\n",
              "                                    [ 6.07684076e-01,  2.59959579e-01],\n",
              "                                    [-1.99134028e+00,  1.68505549e+00],\n",
              "                                    [-6.30651832e-01,  7.01021791e-01],\n",
              "                                    [-1.98214233e+00,  1.71753991e+00],\n",
              "                                    [-1.22219300e+00,  1.23472679e+00],\n",
              "                                    [ 7.26534501e-02,  5.00276208e-01],\n",
              "                                    [-1.83791196e+00,  1.58010709e+00],\n",
              "                                    [-1.91703951e+00,  1.35880733e+00],\n",
              "                                    [ 3.44293177e-01,  3.96227181e-01],\n",
              "                                    [-9.19964850e-01,  9.98338282e-01],\n",
              "                                    [-1.90433311e+00,  1.57533145e+00],\n",
              "                                    [-1.09047818e+00,  5.79230189e-01],\n",
              "                                    [-1.80995381e+00,  1.41626501e+00],\n",
              "                                    [-1.43837428e+00,  1.35073006e+00],\n",
              "                                    [ 2.06985563e-01,  5.06304383e-01],\n",
              "                                    [-1.44651961e+00,  1.06621945e+00],\n",
              "                                    [-1.82035363e+00,  1.42641830e+00],\n",
              "                                    [-1.88128161e+00,  1.61693239e+00],\n",
              "                                    [ 7.62740731e-01,  2.06068158e-01],\n",
              "                                    [-3.17956746e-01,  7.71929145e-01],\n",
              "                                    [-1.73191881e+00,  1.36396718e+00],\n",
              "                                    [-1.83556688e+00,  1.60197139e+00],\n",
              "                                    [-1.31736922e+00,  5.48717856e-01],\n",
              "                                    [-1.89618170e+00,  1.58478498e+00],\n",
              "                                    [-1.38263121e-01,  6.06271982e-01],\n",
              "                                    [-1.58587766e+00,  1.32842755e+00],\n",
              "                                    [ 7.05829084e-01,  2.07512379e-01],\n",
              "                                    [-1.78651237e+00,  1.56927526e+00],\n",
              "                                    [ 4.06492561e-01,  3.77218515e-01],\n",
              "                                    [-1.15097511e+00,  6.71761632e-01],\n",
              "                                    [ 6.04420543e-01, -3.58350538e-02],\n",
              "                                    [ 7.74637282e-01,  1.23960786e-01],\n",
              "                                    [-1.40041816e+00,  1.47854638e+00],\n",
              "                                    [-7.72229671e-01,  9.07121420e-01],\n",
              "                                    [-1.36070108e+00,  1.28233707e+00],\n",
              "                                    [-1.37231386e+00,  1.38142920e+00],\n",
              "                                    [ 4.26968366e-01,  2.42184430e-01],\n",
              "                                    [-1.82662749e+00,  1.46456599e+00],\n",
              "                                    [-1.94896734e+00,  1.75958228e+00],\n",
              "                                    [ 3.84998292e-01,  2.20578820e-01],\n",
              "                                    [-7.49883890e-01,  6.55802369e-01],\n",
              "                                    [-1.97466040e+00,  1.65772820e+00],\n",
              "                                    [-1.39256442e+00,  1.03452325e+00],\n",
              "                                    [-7.80908704e-01,  8.82943809e-01],\n",
              "                                    [ 1.79148337e-04,  3.78563702e-01],\n",
              "                                    [ 6.31495893e-01,  2.36708313e-01],\n",
              "                                    [ 3.71556103e-01,  2.74980485e-01],\n",
              "                                    [-1.81486213e+00,  1.40805840e+00],\n",
              "                                    [ 1.32865056e-01,  5.85844874e-01],\n",
              "                                    [-4.57721263e-01,  7.21973062e-01],\n",
              "                                    [ 7.51530647e-01,  2.48732269e-01],\n",
              "                                    [ 7.05664277e-01,  1.46438360e-01],\n",
              "                                    [-3.11025321e-01,  3.49626780e-01],\n",
              "                                    [ 4.89189744e-01,  1.02799080e-01],\n",
              "                                    [-1.46654665e+00,  1.21366096e+00],\n",
              "                                    [-1.82222259e+00,  1.55661929e+00],\n",
              "                                    [-4.68298703e-01,  5.74337900e-01],\n",
              "                                    [-1.91672099e+00,  1.59565997e+00],\n",
              "                                    [ 4.32898402e-01,  3.55453193e-01],\n",
              "                                    [-1.96638012e+00,  1.72264218e+00],\n",
              "                                    [-4.38484907e-01,  6.86525285e-01],\n",
              "                                    [-4.44050133e-01,  5.45070231e-01],\n",
              "                                    [-6.19688570e-01,  8.18645060e-01],\n",
              "                                    [-2.87500657e-02,  5.41453362e-01],\n",
              "                                    [-1.77334857e+00,  1.15426135e+00],\n",
              "                                    [ 4.92710888e-01,  3.20176572e-01],\n",
              "                                    [-1.97920692e+00,  1.62079346e+00],\n",
              "                                    [ 1.17713720e-01,  6.31192267e-01],\n",
              "                                    [-1.11085546e+00,  8.44849169e-01],\n",
              "                                    [-1.87367785e+00,  1.53488791e+00],\n",
              "                                    [-1.68169117e+00,  1.11578369e+00],\n",
              "                                    [-1.16931784e+00,  1.01347303e+00],\n",
              "                                    [-1.92212594e+00,  1.73763049e+00],\n",
              "                                    [ 4.74438459e-01,  3.89279217e-01],\n",
              "                                    [ 4.57230747e-01,  3.73943746e-01],\n",
              "                                    [-1.91407847e+00,  1.69620407e+00],\n",
              "                                    [ 8.20906520e-01, -6.45854354e-01],\n",
              "                                    [-1.78494942e+00,  1.55692518e+00],\n",
              "                                    [-5.15050650e-01,  8.56816947e-01],\n",
              "                                    [ 8.58613968e-01,  1.58704400e-01],\n",
              "                                    [ 5.00733852e-01,  3.01039636e-01],\n",
              "                                    [-1.96455944e+00,  1.73336673e+00],\n",
              "                                    [ 5.33439875e-01,  6.57861307e-02],\n",
              "                                    [-1.32459056e+00,  7.42011547e-01]], dtype=float32))])"
            ]
          },
          "metadata": {},
          "execution_count": 14
        }
      ]
    },
    {
      "cell_type": "code",
      "metadata": {
        "colab": {
          "base_uri": "https://localhost:8080/"
        },
        "id": "0eY1fB_MwZvf",
        "outputId": "b150ce5d-a757-44bc-aa62-bed3f5f45ff2"
      },
      "source": [
        "class_preds = np.argmax(preds, axis=1)\n",
        "print(preds.shape, class_preds.shape)"
      ],
      "execution_count": 15,
      "outputs": [
        {
          "output_type": "stream",
          "name": "stdout",
          "text": [
            "(408, 2) (408,)\n"
          ]
        }
      ]
    },
    {
      "cell_type": "code",
      "metadata": {
        "colab": {
          "base_uri": "https://localhost:8080/",
          "height": 66,
          "referenced_widgets": [
            "99f6d35155e64fb882ce03402ef201ba",
            "9ce7b6baa6734bd4a39f1397f0274ecb",
            "e7685882e9fc4b9cb238b00c3cec2e16",
            "d3573949bf304af187474e34975ddb11",
            "b8b8e805004b4767b3ea990832b1402a",
            "5fafed8d63dd479fa3a2829efbeab77a",
            "378d7504b82d41a6ad367ef81ef3a462",
            "857ee73c3f7942a9a4136ae420f91d41",
            "58ff6420ba2c40d8ba3ffc3245c7e3de",
            "227e5d57854d4f19b21ccd3d242dcc02",
            "94bfc897037347449a3823177c92e773"
          ]
        },
        "id": "_td2IfP-wZvh",
        "outputId": "bf44cdc6-733d-4ee5-9486-f42022e747b6"
      },
      "source": [
        "from datasets import load_metric\n",
        "\n",
        "metric = load_metric(\"glue\", \"mrpc\")\n",
        "metric.compute(predictions=class_preds, references=raw_datasets['validation']['label'])"
      ],
      "execution_count": 16,
      "outputs": [
        {
          "output_type": "display_data",
          "data": {
            "application/vnd.jupyter.widget-view+json": {
              "model_id": "99f6d35155e64fb882ce03402ef201ba",
              "version_minor": 0,
              "version_major": 2
            },
            "text/plain": [
              "Downloading:   0%|          | 0.00/1.86k [00:00<?, ?B/s]"
            ]
          },
          "metadata": {}
        },
        {
          "output_type": "execute_result",
          "data": {
            "text/plain": [
              "{'accuracy': 0.8480392156862745, 'f1': 0.8927335640138409}"
            ]
          },
          "metadata": {},
          "execution_count": 16
        }
      ]
    }
  ]
}